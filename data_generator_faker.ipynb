{
 "cells": [
  {
   "cell_type": "markdown",
   "id": "6156cc9f-2973-4af1-9ec8-24ab9efaa40d",
   "metadata": {},
   "source": [
    "### Generating data using faker module based on schema"
   ]
  },
  {
   "cell_type": "code",
   "execution_count": 157,
   "id": "5d29ca8e-297d-47cd-9403-4722acdd493e",
   "metadata": {},
   "outputs": [
    {
     "name": "stdout",
     "output_type": "stream",
     "text": [
      "Requirement already satisfied: faker in c:\\users\\siria\\anaconda3\\lib\\site-packages (30.1.0)Note: you may need to restart the kernel to use updated packages.\n",
      "\n",
      "Requirement already satisfied: python-dateutil>=2.4 in c:\\users\\siria\\anaconda3\\lib\\site-packages (from faker) (2.9.0.post0)\n",
      "Requirement already satisfied: typing-extensions in c:\\users\\siria\\anaconda3\\lib\\site-packages (from faker) (4.11.0)\n",
      "Requirement already satisfied: six>=1.5 in c:\\users\\siria\\anaconda3\\lib\\site-packages (from python-dateutil>=2.4->faker) (1.16.0)\n"
     ]
    }
   ],
   "source": [
    "pip install faker"
   ]
  },
  {
   "cell_type": "code",
   "execution_count": 158,
   "id": "341188f4-ced2-45ca-bee6-39ba49fb3a1a",
   "metadata": {},
   "outputs": [],
   "source": [
    "import csv\n",
    "import random\n",
    "import pandas as pd\n",
    "import numpy as np\n",
    "import csv\n",
    "from faker import Faker\n",
    "from datetime import date, timedelta"
   ]
  },
  {
   "cell_type": "code",
   "execution_count": 159,
   "id": "aa815648-04ac-471f-8fb3-67f7e1b05eb7",
   "metadata": {},
   "outputs": [],
   "source": [
    "# Initialize Faker\n",
    "fake = Faker()\n",
    "\n",
    "# Step 1: Generate Users\n",
    "num_users = 3500\n",
    "users = []\n",
    "\n",
    "for user_id in range(1, num_users + 1):\n",
    "    username = fake.user_name()\n",
    "    password = fake.password()\n",
    "    email = fake.email()\n",
    "    address = fake.address()\n",
    "    phone_number = fake.phone_number()\n",
    "    users.append({\n",
    "        'user_id': user_id,\n",
    "        'username': username,\n",
    "        'password': password,\n",
    "        'email': email,\n",
    "        'address': address,\n",
    "        'phone_number': phone_number\n",
    "    })\n",
    "\n",
    "users_df = pd.DataFrame(users)\n",
    "users_df.to_csv(\"users.csv\", index=False)"
   ]
  },
  {
   "cell_type": "code",
   "execution_count": 160,
   "id": "a12ff8f1-ecb1-4960-8c40-36631933573a",
   "metadata": {},
   "outputs": [],
   "source": [
    "# Step 2: Generate Categories\n",
    "num_categories = 200\n",
    "categories = []\n",
    "\n",
    "for category_id in range(1, num_categories + 1):\n",
    "    category_name = fake.unique.word().capitalize()  # Ensure unique category names\n",
    "    description = fake.sentence()\n",
    "    categories.append({\n",
    "        'category_id': category_id,\n",
    "        'category_name': category_name,\n",
    "        'description': description\n",
    "    })\n",
    "\n",
    "categories_df = pd.DataFrame(categories)\n",
    "categories_df.to_csv(\"categories.csv\", index=False)"
   ]
  },
  {
   "cell_type": "code",
   "execution_count": 161,
   "id": "f4ed7c0c-66d2-41ea-b281-9ff71ef9a8d4",
   "metadata": {},
   "outputs": [],
   "source": [
    "# Step 3: Generate Products\n",
    "num_products = 1000  # Adjust as needed\n",
    "products = []\n",
    "\n",
    "for product_id in range(1, num_products + 1):\n",
    "    name = fake.word().capitalize()  # Allow non-unique product names\n",
    "    description = fake.sentence()\n",
    "    price = round(random.uniform(10.0, 1000.0), 2)  # Random price between $10 and $1000\n",
    "    stock_quantity = random.randint(1, 100)  # Random stock quantity between 1 and 100\n",
    "    user_id = random.randint(1, num_users)  # Randomly select a user_id from 1 to 3500\n",
    "    category_id = random.randint(1, num_categories)  # Randomly select a category_id from 1 to 200\n",
    "    products.append({\n",
    "        'product_id': product_id,\n",
    "        'name': name,\n",
    "        'description': description,\n",
    "        'price': price,\n",
    "        'stock_quantity': stock_quantity,\n",
    "        'user_id': user_id,\n",
    "        'category_id': category_id\n",
    "    })\n",
    "\n",
    "products_df = pd.DataFrame(products)\n",
    "products_df.to_csv(\"products1.csv\", index=False)\n",
    "df = pd.read_csv('products1.csv')\n",
    "df = df.drop('user_id', axis=1)\n",
    "df.to_csv('products.csv', index=False)\n",
    "\n",
    "\n",
    "# In the Products generation section\n",
    "for product_id in range(1, num_products + 1):\n",
    "    name = f\"{fake.word().capitalize()} {fake.word().capitalize()}\"  # Combine two words for uniqueness\n",
    "    description = fake.sentence()"
   ]
  },
  {
   "cell_type": "code",
   "execution_count": 162,
   "id": "251223a9-382f-4113-bf66-51939ba6c769",
   "metadata": {},
   "outputs": [],
   "source": [
    "# Step 4: Generate Shopping Carts\n",
    "shopping_carts = []\n",
    "num_carts_per_user = random.randint(1, 5)  # Randomly assign between 1 and 5 carts per user\n",
    "\n",
    "for user_id in range(1, num_users + 1):\n",
    "    num_carts = random.randint(1, num_carts_per_user)  # Random number of carts for each user\n",
    "    for cart_id in range(1, num_carts + 1):\n",
    "        created_at = fake.date_time_this_year()\n",
    "        updated_at = fake.date_time_this_year()\n",
    "        shopping_carts.append({\n",
    "            'cart_id': len(shopping_carts) + 1,  # Unique cart ID\n",
    "            'user_id': user_id,\n",
    "            'created_at': created_at,\n",
    "            'updated_at': updated_at\n",
    "        })\n",
    "\n",
    "shopping_carts_df = pd.DataFrame(shopping_carts)\n",
    "shopping_carts_df.to_csv(\"shopping_carts.csv\", index=False)\n"
   ]
  },
  {
   "cell_type": "code",
   "execution_count": 163,
   "id": "6425e5e7-efbe-48b3-81f4-74291ce25a45",
   "metadata": {},
   "outputs": [
    {
     "name": "stdout",
     "output_type": "stream",
     "text": [
      "6964\n"
     ]
    }
   ],
   "source": [
    "print(len(shopping_carts_df))\n",
    "num_carts = len(shopping_carts_df)"
   ]
  },
  {
   "cell_type": "code",
   "execution_count": 164,
   "id": "7d83ef0d-d5b4-4ff7-a915-44a77e1fc861",
   "metadata": {},
   "outputs": [],
   "source": [
    "# Step 5: Generate Cart Items\n",
    "num_cart_items = random.randint(1, 5)  # Random number of items per cart\n",
    "cart_items = []\n",
    "\n",
    "for cart_id in range(1, num_carts + 1):\n",
    "    for _ in range(num_cart_items):\n",
    "        cart_item_id = len(cart_items) + 1\n",
    "        product_id = random.randint(1, num_products)\n",
    "        quantity = random.randint(1, 5)  # Quantity of items\n",
    "        price = products_df.loc[products_df['product_id'] == product_id, 'price'].values[0]\n",
    "        cart_items.append({\n",
    "            'cart_item_id': cart_item_id,\n",
    "            'cart_id': cart_id,\n",
    "            'product_id': product_id,\n",
    "            'quantity': quantity,\n",
    "            'price': price\n",
    "        })\n",
    "    num_cart_items = random.randint(1, 5)  # Random number of items per cart\n",
    "\n",
    "cart_items_df = pd.DataFrame(cart_items)\n",
    "cart_items_df.to_csv(\"cart_items.csv\", index=False)"
   ]
  },
  {
   "cell_type": "code",
   "execution_count": 165,
   "id": "797d07f0-8f88-4642-b11f-cb0444af96b5",
   "metadata": {},
   "outputs": [],
   "source": [
    "# Step 6: Generate Orders\n",
    "num_orders = random.randint(500, 1000)  # Random number of orders\n",
    "orders = []\n",
    "\n",
    "for order_id in range(1, num_orders + 1):\n",
    "    user_id = random.randint(1, num_users)\n",
    "    order_status = random.choice(['Pending', 'Completed', 'Shipped', 'Cancelled'])\n",
    "    total_amount = round(random.uniform(20.0, 5000.0), 2)  # Random total amount\n",
    "    order_date = fake.date_time_this_year()\n",
    "    shipping_address = fake.address()\n",
    "    payment_method_id = random.randint(1, 5)  # Assuming there are 5 payment methods\n",
    "    orders.append({\n",
    "        'order_id': order_id,\n",
    "        'user_id': user_id,\n",
    "        'order_status': order_status,\n",
    "        'total_amount': total_amount,\n",
    "        'order_date': order_date,\n",
    "        'shipping_address': shipping_address,\n",
    "        'payment_method_id': payment_method_id\n",
    "    })\n",
    "\n",
    "orders_df = pd.DataFrame(orders)\n",
    "orders_df.to_csv(\"orders.csv\", index=False)"
   ]
  },
  {
   "cell_type": "code",
   "execution_count": 166,
   "id": "234b56b4-715c-490e-b81d-b7eb4e2d1510",
   "metadata": {},
   "outputs": [],
   "source": [
    "# Step 7: Generate Order Items\n",
    "order_items = []\n",
    "\n",
    "for order_id in range(1, num_orders + 1):\n",
    "    num_order_items = random.randint(1, 5)  # Random number of items per order\n",
    "    for _ in range(num_order_items):\n",
    "        order_item_id = len(order_items) + 1\n",
    "        product_id = random.randint(1, num_products)\n",
    "        quantity = random.randint(1, 3)  # Quantity of items\n",
    "        price = products_df.loc[products_df['product_id'] == product_id, 'price'].values[0]\n",
    "        order_items.append({\n",
    "            'order_item_id': order_item_id,\n",
    "            'order_id': order_id,\n",
    "            'product_id': product_id,\n",
    "            'quantity': quantity,\n",
    "            'price': price\n",
    "        })\n",
    "\n",
    "order_items_df = pd.DataFrame(order_items)\n",
    "order_items_df.to_csv(\"order_items.csv\", index=False)"
   ]
  },
  {
   "cell_type": "code",
   "execution_count": 167,
   "id": "14bdebde-975f-41b8-9b3c-963065daecd1",
   "metadata": {},
   "outputs": [],
   "source": [
    "# Step 8: Generate Payments\n",
    "payments = []\n",
    "\n",
    "for payment_id in range(1, len(orders) + 1):\n",
    "    order_id = payment_id  # Assuming each order has one payment\n",
    "    payment_method_id = random.randint(1, 5)\n",
    "    amount = orders_df.loc[orders_df['order_id'] == order_id, 'total_amount'].values[0]\n",
    "    payment_status = random.choice(['Pending', 'Completed', 'Failed'])\n",
    "    payment_date = fake.date_time_this_year()\n",
    "    payments.append({\n",
    "        'payment_id': payment_id,\n",
    "        'order_id': order_id,\n",
    "        'payment_method_id': payment_method_id,\n",
    "        'amount': amount,\n",
    "        'payment_status': payment_status,\n",
    "        'payment_date': payment_date\n",
    "    })\n",
    "\n",
    "payments_df = pd.DataFrame(payments)\n",
    "payments_df.to_csv(\"payments.csv\", index=False)"
   ]
  },
  {
   "cell_type": "code",
   "execution_count": 168,
   "id": "9e08f657-07d5-4ccf-8db7-d6201e549977",
   "metadata": {},
   "outputs": [],
   "source": [
    "# Step 9: Generate Payment Methods\n",
    "payment_methods = [\n",
    "    {'payment_method_id': 1, 'method_name': 'Credit Card', 'description': 'Visa, MasterCard, etc.'},\n",
    "    {'payment_method_id': 2, 'method_name': 'PayPal', 'description': 'Online payment system.'},\n",
    "    {'payment_method_id': 3, 'method_name': 'Bank Transfer', 'description': 'Direct bank transfer.'},\n",
    "    {'payment_method_id': 4, 'method_name': 'Cash on Delivery', 'description': 'Pay cash on delivery.'},\n",
    "    {'payment_method_id': 5, 'method_name': 'Gift Card', 'description': 'Redeemable gift cards.'}\n",
    "]\n",
    "\n",
    "payment_methods_df = pd.DataFrame(payment_methods)\n",
    "payment_methods_df.to_csv(\"payment_methods.csv\", index=False)"
   ]
  },
  {
   "cell_type": "code",
   "execution_count": 169,
   "id": "30e148be-3e24-4252-8089-a40e604bc276",
   "metadata": {},
   "outputs": [],
   "source": [
    "# Step 10: Generate Reviews\n",
    "num_reviews = random.randint(1000, 2000)  # Random number of reviews\n",
    "reviews = []\n",
    "\n",
    "for review_id in range(1, num_reviews + 1):\n",
    "    user_id = random.randint(1, num_users)\n",
    "    product_id = random.randint(1, num_products)\n",
    "    rating = random.randint(1, 5)  # Rating from 1 to 5\n",
    "    comment = fake.sentence()\n",
    "    review_date = fake.date_time_this_year()\n",
    "    reviews.append({\n",
    "        'review_id': review_id,\n",
    "        'user_id': user_id,\n",
    "        'product_id': product_id,\n",
    "        'rating': rating,\n",
    "        'comment': comment,\n",
    "        'review_date': review_date\n",
    "    })\n",
    "\n",
    "reviews_df = pd.DataFrame(reviews)\n",
    "reviews_df.to_csv(\"reviews.csv\", index=False)"
   ]
  },
  {
   "cell_type": "markdown",
   "id": "4ca01847-7af0-4040-8fe0-8f84d6c2b977",
   "metadata": {},
   "source": [
    "### Merging all tables for creating single table (For Tableau visualization)"
   ]
  },
  {
   "cell_type": "code",
   "execution_count": null,
   "id": "9ec712ca-8a72-486c-9812-65f89ce4315a",
   "metadata": {},
   "outputs": [],
   "source": [
    "import pandas as pd\n",
    "\n",
    "# Load the data into DataFrames (replace with actual file paths or database queries)\n",
    "users = pd.read_csv('users.csv')\n",
    "categories = pd.read_csv('categories.csv')\n",
    "products = pd.read_csv('products.csv')\n",
    "reviews = pd.read_csv('reviews.csv')\n",
    "shopping_cart = pd.read_csv('shopping_carts.csv')\n",
    "cart_items = pd.read_csv('cart_items.csv')\n",
    "orders = pd.read_csv('orders.csv')\n",
    "order_items = pd.read_csv('order_items.csv')\n",
    "payments = pd.read_csv('payments.csv')\n",
    "print(payments.head())\n",
    "payment_methods = pd.read_csv('payment_methods.csv')\n",
    "print(payment_methods.head())\n",
    "\n",
    "# Perform joins step-by-step based on the schema\n",
    "\n",
    "# Join products with categories\n",
    "products_categories = pd.merge(products, categories, on='category_id', how='left')\n",
    "\n",
    "# Join reviews with products\n",
    "reviews_products = pd.merge(reviews, products, on='product_id', how='left')\n",
    "\n",
    "# Join shopping cart with cart items\n",
    "cart_cart_items = pd.merge(shopping_cart, cart_items, on='cart_id', how='left')\n",
    "\n",
    "# Join orders with users\n",
    "orders_users = pd.merge(orders, users, on='user_id', how='left')\n",
    "\n",
    "# Join order items with products\n",
    "order_items_products = pd.merge(order_items, products, on='product_id', how='left')\n",
    "\n",
    "# Join payments with orders and payment methods\n",
    "\n",
    "#print(payments_orders.head())\n",
    "payments_orders_methods = pd.merge(payments, payment_methods, on='payment_method_id', how='left')\n",
    "\n",
    "payments_orders = pd.merge(payments_orders_methods, orders, on='order_id', how='left')\n",
    "\n",
    "# Join everything together\n",
    "final_table = (\n",
    "    payments_orders\n",
    "    .merge(order_items_products, on='order_id', how='left', suffixes=('_order', '_items'))\n",
    "    .merge(reviews_products, on='product_id', how='left', suffixes=('_items', '_reviews'))\n",
    "    .merge(cart_cart_items, on='product_id', how='left', suffixes=('_reviews', '_cart'))\n",
    ")\n",
    "\n",
    "# Save the final table to a CSV or display\n",
    "final_table.to_csv('final_table.csv', index=False)\n",
    "print(final_table.head())\n"
   ]
  },
  {
   "cell_type": "code",
   "execution_count": null,
   "id": "9498a159-8345-455b-9761-d021e96d26a3",
   "metadata": {},
   "outputs": [],
   "source": [
    "# Assuming `final_table` is your resulting DataFrame after all merges\n",
    "output_file = \"final_table1.xlsx\" \n",
    "final_table.to_excel(output_file, index=False)\n",
    "\n",
    "print(f\"Data successfully saved to {output_file}\")"
   ]
  }
 ],
 "metadata": {
  "kernelspec": {
   "display_name": "Python 3 (ipykernel)",
   "language": "python",
   "name": "python3"
  },
  "language_info": {
   "codemirror_mode": {
    "name": "ipython",
    "version": 3
   },
   "file_extension": ".py",
   "mimetype": "text/x-python",
   "name": "python",
   "nbconvert_exporter": "python",
   "pygments_lexer": "ipython3",
   "version": "3.12.3"
  }
 },
 "nbformat": 4,
 "nbformat_minor": 5
}
